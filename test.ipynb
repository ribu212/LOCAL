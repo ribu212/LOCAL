{
 "cells": [
  {
   "cell_type": "code",
   "execution_count": 2,
   "metadata": {},
   "outputs": [],
   "source": [
    "# Webスクレイピングに最低限必要なライブラリ\n",
    "import requests\n",
    "from bs4 import BeautifulSoup\n",
    "import time\n",
    "\n",
    "# アクセスしたいWebサイトのURL\n",
    "url = \"https://github.com/orgs/google/repositories\"\n"
   ]
  },
  {
   "cell_type": "code",
   "execution_count": 4,
   "metadata": {},
   "outputs": [
    {
     "name": "stdout",
     "output_type": "stream",
     "text": [
      "[]\n"
     ]
    }
   ],
   "source": [
    "page_number = 1\n",
    "titles = []\n",
    "\n",
    "while True:\n",
    "    # Webサーバにリクエストを出す．レスポンスを変数に格納しておく\n",
    "    response = requests.get(f\"{url}?page={page_number}\")\n",
    "\n",
    "    if response.status_code == 200:\n",
    "        # HTMLソースをBeautifulSoupオブジェクトに変換する\n",
    "        soup = BeautifulSoup(response.text, 'html.parser')\n",
    "        time.sleep(1)\n",
    "        # すべてのリポジトリ名を取り出す\n",
    "        title_list = soup.find_all('a', class_='Box-sc-g0xbh4-0 kbhWHi markdown-title Title-module__heading--upUxW prc-Text-Text-0ima0')\n",
    "        # テキストのみにする.値がない場合はNoneを格納\n",
    "        titles.extend([a.get_text(strip=True) if a else None for a in title_list])\n",
    "\n",
    "        # 次のページのリンクを取得\n",
    "        next_page_link = soup.find('a', class_='Box-sc-g0xbh4-0 kbhWHi markdown-title Title-module__heading--upUxW prc-Text-Text-0ima0')\n",
    "\n",
    "        if next_page_link:\n",
    "            # 次のページがある場合はそのページに移動\n",
    "            page_number += 1\n",
    "\n",
    "            time.sleep(1)\n",
    "        else:\n",
    "            # 次のページがない場合は終了\n",
    "            break\n",
    "    else:\n",
    "        break\n",
    "\n",
    "print(titles)\n"
   ]
  }
 ],
 "metadata": {
  "kernelspec": {
   "display_name": "Python 3",
   "language": "python",
   "name": "python3"
  },
  "language_info": {
   "codemirror_mode": {
    "name": "ipython",
    "version": 3
   },
   "file_extension": ".py",
   "mimetype": "text/x-python",
   "name": "python",
   "nbconvert_exporter": "python",
   "pygments_lexer": "ipython3",
   "version": "3.10.1"
  }
 },
 "nbformat": 4,
 "nbformat_minor": 2
}
